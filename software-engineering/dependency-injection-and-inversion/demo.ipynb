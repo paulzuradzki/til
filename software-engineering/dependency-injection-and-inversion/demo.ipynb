{
 "cells": [
  {
   "cell_type": "markdown",
   "metadata": {},
   "source": [
    "A function that depends on an object and implementation of specific methods..."
   ]
  },
  {
   "cell_type": "code",
   "execution_count": 1,
   "metadata": {},
   "outputs": [
    {
     "name": "stdout",
     "output_type": "stream",
     "text": [
      "Lamp is on\n",
      "Lamp is off\n"
     ]
    }
   ],
   "source": [
    "class Lamp:\n",
    "    def turn_on(self):\n",
    "        print(\"Lamp is on\")\n",
    "        \n",
    "    def turn_off(self):\n",
    "        print(\"Lamp is off\")\n",
    "\n",
    "def operate(lamp):\n",
    "    lamp.turn_on()\n",
    "    lamp.turn_off()\n",
    "\n",
    "lamp = Lamp()\n",
    "operate(lamp)"
   ]
  },
  {
   "cell_type": "markdown",
   "metadata": {},
   "source": [
    "An attempt to extend usage to other object types..."
   ]
  },
  {
   "cell_type": "code",
   "execution_count": 2,
   "metadata": {},
   "outputs": [
    {
     "name": "stdout",
     "output_type": "stream",
     "text": [
      "Lamp is on\n",
      "Lamp is off\n",
      "Fan is on\n",
      "Fan is off\n"
     ]
    }
   ],
   "source": [
    "class Fan:\n",
    "    def turn_on(self):\n",
    "        print(\"Fan is on\")\n",
    "        \n",
    "    def turn_off(self):\n",
    "        print(\"Fan is off\")\n",
    "\n",
    "class Lamp:\n",
    "    def turn_on(self):\n",
    "        print(\"Lamp is on\")\n",
    "        \n",
    "    def turn_off(self):\n",
    "        print(\"Lamp is off\")\n",
    "\n",
    "def operate(lamp):\n",
    "    lamp.turn_on()\n",
    "    lamp.turn_off()\n",
    "\n",
    "lamp = Lamp()\n",
    "fan = Fan()\n",
    "operate(lamp)\n",
    "\n",
    "# !!! Fan is not a Lamp\n",
    "operate(fan)"
   ]
  },
  {
   "cell_type": "markdown",
   "metadata": {},
   "source": [
    "Use Dependency Inversion Principle (DIP) to introduce an abstraction and `operate` will work with that instead.\n",
    "\n",
    "Now, `operate` is a function that accepts an abstract `Switchable` object."
   ]
  },
  {
   "cell_type": "code",
   "execution_count": 3,
   "metadata": {},
   "outputs": [
    {
     "name": "stdout",
     "output_type": "stream",
     "text": [
      "Lamp is on\n",
      "Lamp is off\n",
      "Fan is on\n",
      "Fan is off\n"
     ]
    }
   ],
   "source": [
    "from abc import ABC, abstractmethod\n",
    "\n",
    "\n",
    "class Switchable(ABC):\n",
    "    @abstractmethod\n",
    "    def turn_on(self):\n",
    "        pass\n",
    "\n",
    "    @abstractmethod\n",
    "    def turn_off(self):\n",
    "        pass\n",
    "\n",
    "\n",
    "class Fan(Switchable):\n",
    "    def turn_on(self):\n",
    "        print(\"Fan is on\")\n",
    "\n",
    "    def turn_off(self):\n",
    "        print(\"Fan is off\")\n",
    "\n",
    "\n",
    "class Lamp(Switchable):\n",
    "    def turn_on(self):\n",
    "        print(\"Lamp is on\")\n",
    "\n",
    "    def turn_off(self):\n",
    "        print(\"Lamp is off\")\n",
    "\n",
    "\n",
    "def operate(device: Switchable):\n",
    "    device.turn_on()\n",
    "    device.turn_off()\n",
    "\n",
    "\n",
    "lamp = Lamp()\n",
    "fan = Fan()\n",
    "operate(lamp)\n",
    "operate(fan)"
   ]
  },
  {
   "cell_type": "markdown",
   "metadata": {},
   "source": [
    "Next, instead of an `operate` function, we start with a `DeviceOperator` class that instantiates a `Lamp`. \n",
    "- Since we initialize `Lamp` inside the DeviceOperator class, we cannot easily change the device to Fan or any other device without changing the DeviceOperator class.\n",
    "- This pattern of initializing other classes can happen during initialization of `DeviceOperator` or in subsequent methods."
   ]
  },
  {
   "cell_type": "code",
   "execution_count": 4,
   "metadata": {},
   "outputs": [
    {
     "name": "stdout",
     "output_type": "stream",
     "text": [
      "Lamp is on\n",
      "Lamp is off\n"
     ]
    }
   ],
   "source": [
    "class Lamp:\n",
    "    def turn_on(self):\n",
    "        print(\"Lamp is on\")\n",
    "\n",
    "    def turn_off(self):\n",
    "        print(\"Lamp is off\")\n",
    "\n",
    "class DeviceOperator:\n",
    "    def __init__(self):\n",
    "        self.device = Lamp()\n",
    "\n",
    "    def run(self):\n",
    "        self.device.turn_on()\n",
    "        self.device.turn_off()\n",
    "\n",
    "\n",
    "lamp = Lamp()\n",
    "lamp_operator = DeviceOperator()\n",
    "lamp_operator.run()\n",
    "\n",
    "# can't use DeviceOperator for Fan since it is tightly coupled to Lamp\n",
    "fan = Fan()\n"
   ]
  },
  {
   "cell_type": "markdown",
   "metadata": {},
   "source": [
    "Use Dependency Injection (DI). Separate creation (of Lamp, Fan, other device) from usage. \n",
    "- We achieve this by create our `Lamp` object outside of our initialization of `DeviceOperator`. `DeviceOperator` takes a `Lamp` as a dependency. \n",
    "- In fact, we can pass in other objects like mocks for testing or a `Fan`."
   ]
  },
  {
   "cell_type": "code",
   "execution_count": 5,
   "metadata": {},
   "outputs": [
    {
     "name": "stdout",
     "output_type": "stream",
     "text": [
      "Lamp is on\n",
      "Lamp is off\n",
      "Fan is on\n",
      "Fan is off\n"
     ]
    }
   ],
   "source": [
    "class Lamp:\n",
    "    def turn_on(self):\n",
    "        print(\"Lamp is on\")\n",
    "\n",
    "    def turn_off(self):\n",
    "        print(\"Lamp is off\")\n",
    "\n",
    "class DeviceOperator:\n",
    "    def __init__(self, device):\n",
    "        self.device = device\n",
    "\n",
    "    def run(self):\n",
    "        self.device.turn_on()\n",
    "        self.device.turn_off()\n",
    "\n",
    "\n",
    "lamp = Lamp()\n",
    "lamp_operator = DeviceOperator(device=lamp)\n",
    "lamp_operator.run()\n",
    "\n",
    "fan = Fan()\n",
    "fan_operator = DeviceOperator(device=fan)\n",
    "fan_operator.run()\n"
   ]
  },
  {
   "cell_type": "markdown",
   "metadata": {},
   "source": [
    "Using Dependency Injection (DI) to achieve Dependency Inversion Principle (DIP) with abstract interface layer."
   ]
  },
  {
   "cell_type": "code",
   "execution_count": 6,
   "metadata": {},
   "outputs": [
    {
     "name": "stdout",
     "output_type": "stream",
     "text": [
      "Lamp is on\n",
      "Lamp is off\n",
      "Fan is on\n",
      "Fan is off\n",
      "TestDevice is on\n",
      "TestDevice is off\n"
     ]
    }
   ],
   "source": [
    "from abc import ABC, abstractmethod\n",
    "\n",
    "\n",
    "class Switchable(ABC):\n",
    "    @abstractmethod\n",
    "    def turn_on(self):\n",
    "        pass\n",
    "\n",
    "    @abstractmethod\n",
    "    def turn_off(self):\n",
    "        pass\n",
    "\n",
    "\n",
    "class Fan(Switchable):\n",
    "    def turn_on(self):\n",
    "        print(\"Fan is on\")\n",
    "\n",
    "    def turn_off(self):\n",
    "        print(\"Fan is off\")\n",
    "\n",
    "\n",
    "class Lamp(Switchable):\n",
    "    def turn_on(self):\n",
    "        print(\"Lamp is on\")\n",
    "\n",
    "    def turn_off(self):\n",
    "        print(\"Lamp is off\")\n",
    "\n",
    "class TestDevice(Switchable):\n",
    "    def turn_on(self):\n",
    "        print(\"TestDevice is on\")\n",
    "\n",
    "    def turn_off(self):\n",
    "        print(\"TestDevice is off\")\n",
    "\n",
    "class DeviceOperator:\n",
    "    def __init__(self, device: Switchable):\n",
    "        self.device = device\n",
    "\n",
    "    def run(self):\n",
    "        self.device.turn_on()\n",
    "        self.device.turn_off()\n",
    "\n",
    "\n",
    "lamp = Lamp()\n",
    "lamp_operator = DeviceOperator(device=lamp)\n",
    "lamp_operator.run()\n",
    "\n",
    "fan = Fan()\n",
    "fan_operator = DeviceOperator(device=fan)\n",
    "fan_operator.run()\n",
    "\n",
    "test_operator = DeviceOperator(device=TestDevice())\n",
    "test_operator.run()\n",
    "\n",
    "\n",
    "class Foo:\n",
    "    pass\n"
   ]
  },
  {
   "cell_type": "markdown",
   "metadata": {},
   "source": [
    "How to remember the difference between DI and DIP?\n",
    "\n",
    "- Dependency injection - focus is separating creation from use\n",
    "- Dependency inversion - focus is on abstraction and interactions. Interaction layer is more flexible. Goes a step further than DI because interactions are interchangeable in addition to components themselves."
   ]
  },
  {
   "cell_type": "code",
   "execution_count": 7,
   "metadata": {},
   "outputs": [
    {
     "name": "stdout",
     "output_type": "stream",
     "text": [
      "Dimmable Lamp turned on.\n",
      "Dimmable Lamp turned off.\n",
      "Dimmable Lamp adjusted to setting 5.\n",
      "Fan is on\n",
      "Fan is off\n"
     ]
    }
   ],
   "source": [
    "from abc import ABC, abstractmethod\n",
    "\n",
    "\n",
    "# Existing abstraction\n",
    "class Switchable(ABC):\n",
    "    @abstractmethod\n",
    "    def turn_on(self):\n",
    "        pass\n",
    "\n",
    "    @abstractmethod\n",
    "    def turn_off(self):\n",
    "        pass\n",
    "\n",
    "\n",
    "# New abstraction for adjustable devices\n",
    "class Adjustable(ABC):\n",
    "    @abstractmethod\n",
    "    def adjust(self, setting):\n",
    "        pass\n",
    "\n",
    "\n",
    "# Implementing a new device with both behaviors\n",
    "class DimmableLamp(Switchable, Adjustable):\n",
    "    def turn_on(self):\n",
    "        print(\"Dimmable Lamp turned on.\")\n",
    "\n",
    "    def turn_off(self):\n",
    "        print(\"Dimmable Lamp turned off.\")\n",
    "\n",
    "    def adjust(self, setting):\n",
    "        print(f\"Dimmable Lamp adjusted to setting {setting}.\")\n",
    "\n",
    "\n",
    "# Modified DeviceOperator to optionally handle adjustable devices\n",
    "class DeviceOperator:\n",
    "    def __init__(self, device: Switchable):\n",
    "        self.device = device\n",
    "\n",
    "    def operate(self):\n",
    "        self.device.turn_on()\n",
    "        # ... some operations\n",
    "        self.device.turn_off()\n",
    "\n",
    "    def adjust_device(self, setting):\n",
    "        if isinstance(self.device, Adjustable):\n",
    "            self.device.adjust(setting)\n",
    "\n",
    "\n",
    "# Usage\n",
    "dimmable_lamp = DimmableLamp()\n",
    "dimmable_lamp_operator = DeviceOperator(dimmable_lamp)\n",
    "dimmable_lamp_operator.operate()  # Standard operation for all devices\n",
    "dimmable_lamp_operator.adjust_device(5)  # New operation for adjustable devices\n",
    "\n",
    "fan = Fan()\n",
    "fan_operator = DeviceOperator(fan)\n",
    "fan_operator.operate()\n",
    "fan_operator.adjust_device(5)  # No operation performed."
   ]
  }
 ],
 "metadata": {
  "kernelspec": {
   "display_name": "dev",
   "language": "python",
   "name": "python3"
  },
  "language_info": {
   "codemirror_mode": {
    "name": "ipython",
    "version": 3
   },
   "file_extension": ".py",
   "mimetype": "text/x-python",
   "name": "python",
   "nbconvert_exporter": "python",
   "pygments_lexer": "ipython3",
   "version": "3.10.9"
  }
 },
 "nbformat": 4,
 "nbformat_minor": 2
}
