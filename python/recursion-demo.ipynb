{
 "cells": [
  {
   "cell_type": "markdown",
   "metadata": {},
   "source": [
    "# Recursion examples"
   ]
  },
  {
   "cell_type": "markdown",
   "metadata": {},
   "source": [
    "# Factorial"
   ]
  },
  {
   "cell_type": "code",
   "execution_count": 1,
   "metadata": {},
   "outputs": [
    {
     "data": {
      "text/plain": [
       "120"
      ]
     },
     "execution_count": 1,
     "metadata": {},
     "output_type": "execute_result"
    }
   ],
   "source": [
    "def factorial_recursive(n):\n",
    "    if n == 0 or n == 1:\n",
    "        return 1\n",
    "    else:\n",
    "        return n * factorial_recursive(n-1)\n",
    "\n",
    "factorial_recursive(5)"
   ]
  },
  {
   "cell_type": "code",
   "execution_count": 2,
   "metadata": {},
   "outputs": [
    {
     "name": "stdout",
     "output_type": "stream",
     "text": [
      "1*0! -> 1\n",
      "2*1! -> 2\n",
      "3*2! -> 6\n",
      "4*3! -> 24\n",
      "5*4! -> 120\n"
     ]
    },
    {
     "data": {
      "text/plain": [
       "120"
      ]
     },
     "execution_count": 2,
     "metadata": {},
     "output_type": "execute_result"
    }
   ],
   "source": [
    "def factorial_iter(n):\n",
    "    product = 1\n",
    "    for x in range(1, n+1):\n",
    "        product = product * x\n",
    "        print(f\"{x}*{x-1}! -> {product}\")\n",
    "    return product\n",
    "\n",
    "factorial_iter(5)"
   ]
  },
  {
   "cell_type": "markdown",
   "metadata": {},
   "source": [
    "# Fibonacci"
   ]
  },
  {
   "cell_type": "code",
   "execution_count": 3,
   "metadata": {},
   "outputs": [
    {
     "name": "stdout",
     "output_type": "stream",
     "text": [
      "5\n",
      "55\n",
      "6765\n"
     ]
    }
   ],
   "source": [
    "# fib #: 1 1 2 3 5 8 13 21 34 55 ...\n",
    "# index: 1 2 3 4 5 6 7  8  9  10 ...\n",
    "\n",
    "# naive implementation without memoization\n",
    "def fib(n):\n",
    "    if n==1 or n==2:\n",
    "        return 1\n",
    "    else:\n",
    "        return fib(n-1) + fib(n-2)\n",
    "    \n",
    "print(fib(5))\n",
    "print(fib(10))\n",
    "print(fib(20))"
   ]
  },
  {
   "cell_type": "code",
   "execution_count": 4,
   "metadata": {},
   "outputs": [
    {
     "name": "stdout",
     "output_type": "stream",
     "text": [
      "1 1 2 3 5 8 13 21 34 "
     ]
    }
   ],
   "source": [
    "# print fibonacci numbers\n",
    "for n in range(1, 10):\n",
    "    print(fib(n), end=\" \")"
   ]
  },
  {
   "cell_type": "code",
   "execution_count": 5,
   "metadata": {},
   "outputs": [
    {
     "name": "stdout",
     "output_type": "stream",
     "text": [
      "fib(5) -> 5\n",
      "# of function calls: 9 \n",
      "\n",
      "fib(20) -> 6765\n",
      "# of function calls: 13538 \n",
      "\n"
     ]
    }
   ],
   "source": [
    "# added counting number of calls\n",
    "\n",
    "n_calls = 0\n",
    "# naive implementation without memoization\n",
    "def fib(n):\n",
    "    global n_calls\n",
    "    n_calls += 1\n",
    "    if n==0 or n==1 or n==2:\n",
    "        return 1\n",
    "    else:\n",
    "        return fib(n-1) + fib(n-2)\n",
    "    \n",
    "print(f\"fib(5) -> {fib(5)}\")\n",
    "print(\"# of function calls:\", n_calls,\"\\n\")\n",
    "\n",
    "print(f\"fib(20) -> {fib(20)}\")\n",
    "print(\"# of function calls:\", n_calls,\"\\n\")"
   ]
  },
  {
   "cell_type": "code",
   "execution_count": 6,
   "metadata": {},
   "outputs": [
    {
     "name": "stdout",
     "output_type": "stream",
     "text": [
      "5\n",
      "6765\n"
     ]
    }
   ],
   "source": [
    "# adding memoization to avoid redundant recursive calls\n",
    "    # see @functools.lru_cache for more idiomatic, efficient way of implementing memoization\n",
    "    # https://docs.python.org/3/library/functools.html\n",
    "    # reference MIT: https://ocw.mit.edu/courses/electrical-engineering-and-computer-science/6-0001-introduction-to-computer-science-and-programming-in-python-fall-2016/lecture-slides-code/MIT6_0001F16_Lec6.pdf\n",
    "\n",
    "def fib2(n, memo):\n",
    "    if n in memo:\n",
    "        return memo[n]\n",
    "    elif n==0 or n==1 or n==2:\n",
    "        memo[n] = 1\n",
    "        return 1\n",
    "    else:\n",
    "        memo[n] = fib2(n-1, memo) + fib2(n-2, memo)\n",
    "        return fib2(n-1, memo) + fib2(n-2, memo)\n",
    "    \n",
    "memo = {}\n",
    "print(fib2(5, memo))\n",
    "print(fib2(20, memo))"
   ]
  },
  {
   "cell_type": "code",
   "execution_count": 7,
   "metadata": {},
   "outputs": [
    {
     "name": "stdout",
     "output_type": "stream",
     "text": [
      "fib(5) -> 5\n",
      "# of function calls: 13 \n",
      "\n",
      "fib2(20) -> 6765\n",
      "# of function calls: 61\n"
     ]
    }
   ],
   "source": [
    "# memoized fib2() with function call count\n",
    "\n",
    "memo = {}\n",
    "\n",
    "def fib2(n, memo=memo):\n",
    "    global n_calls\n",
    "    n_calls += 1\n",
    "    \n",
    "    if n in memo:\n",
    "        return memo[n]\n",
    "    elif n==0 or n==1 or n==2:\n",
    "        memo[n] = 1\n",
    "        return 1\n",
    "    else:\n",
    "        memo[n] = fib2(n-1) + fib2(n-2)\n",
    "        return fib2(n-1) + fib2(n-2)\n",
    "    \n",
    "n_calls = 0\n",
    "print(f\"fib(5) -> {fib2(5)}\")\n",
    "print(\"# of function calls:\", n_calls,\"\\n\")\n",
    "\n",
    "n_calls = 0\n",
    "print(f\"fib2(20) -> {fib2(20)}\")\n",
    "print(\"# of function calls:\", n_calls)"
   ]
  },
  {
   "cell_type": "markdown",
   "metadata": {},
   "source": [
    "# Algorithm to determine the square root of N:\n",
    "* start with an arbitray guess (ex: 1)\n",
    "* square the guess and take the absolute value of the difference from N\n",
    "    * if this difference is close enough within some tolerance value (ex: 0.0001), then return the guess as the final result\n",
    "    * else make a new guess equal to the average of (guess + N/guess) and re-attempt until the guess recursively converges toward square root of N"
   ]
  },
  {
   "cell_type": "code",
   "execution_count": 8,
   "metadata": {},
   "outputs": [],
   "source": [
    "def square_root(n):\n",
    "    def good_enough(guess, n):\n",
    "        tolerance = 0.0001\n",
    "        is_it_good_enough = abs(guess**2 - n) <= tolerance\n",
    "        return is_it_good_enough\n",
    "\n",
    "    def attempt(guess=None, n=None):\n",
    "        if good_enough(guess, n):\n",
    "            return guess\n",
    "        else:\n",
    "            return attempt((guess + n/guess)/2, n)\n",
    "\n",
    "    return attempt(guess=1, n=n)\n",
    "\n",
    "def square_root_with_prints(n):\n",
    "    def good_enough(guess, n):\n",
    "        tolerance = 0.0001\n",
    "        is_it_good_enough = abs(guess**2 - n) <= tolerance\n",
    "        print(f\"is_it_good_enough: {is_it_good_enough}\")\n",
    "        return is_it_good_enough\n",
    "\n",
    "    def attempt(guess=None, n=None):\n",
    "        print(f\"guess: {guess}\")\n",
    "        if good_enough(guess, n):\n",
    "            return guess\n",
    "        else:\n",
    "            print(f\"new guess: ({guess} + {n} / {guess}) / 2\")\n",
    "            return attempt((guess + n/guess)/2, n)\n",
    "\n",
    "    return attempt(guess=1, n=n)"
   ]
  },
  {
   "cell_type": "code",
   "execution_count": 9,
   "metadata": {},
   "outputs": [
    {
     "data": {
      "text/plain": [
       "3.162277665175675"
      ]
     },
     "execution_count": 9,
     "metadata": {},
     "output_type": "execute_result"
    }
   ],
   "source": [
    "square_root(10)"
   ]
  },
  {
   "cell_type": "code",
   "execution_count": 10,
   "metadata": {},
   "outputs": [
    {
     "name": "stdout",
     "output_type": "stream",
     "text": [
      "guess: 1\n",
      "is_it_good_enough: False\n",
      "new guess: (1 + 10 / 1) / 2\n",
      "guess: 5.5\n",
      "is_it_good_enough: False\n",
      "new guess: (5.5 + 10 / 5.5) / 2\n",
      "guess: 3.659090909090909\n",
      "is_it_good_enough: False\n",
      "new guess: (3.659090909090909 + 10 / 3.659090909090909) / 2\n",
      "guess: 3.196005081874647\n",
      "is_it_good_enough: False\n",
      "new guess: (3.196005081874647 + 10 / 3.196005081874647) / 2\n",
      "guess: 3.16245562280389\n",
      "is_it_good_enough: False\n",
      "new guess: (3.16245562280389 + 10 / 3.16245562280389) / 2\n",
      "guess: 3.162277665175675\n",
      "is_it_good_enough: True\n"
     ]
    },
    {
     "data": {
      "text/plain": [
       "3.162277665175675"
      ]
     },
     "execution_count": 10,
     "metadata": {},
     "output_type": "execute_result"
    }
   ],
   "source": [
    "square_root_with_prints(10)"
   ]
  },
  {
   "cell_type": "markdown",
   "metadata": {},
   "source": [
    "# Walking a file tree"
   ]
  },
  {
   "cell_type": "code",
   "execution_count": 11,
   "metadata": {},
   "outputs": [],
   "source": [
    "# @author Paul Zuradzki\n",
    "\n",
    "import os\n",
    "from typing import List\n",
    "\n",
    "def inventory_homemade(root_dir, inventory=None) -> List:\n",
    "    '''Implements recursive file inventory function similar to os.walk().\n",
    "    \n",
    "    The local list variable `inventory` gets passed as an optional parameter in recursive call. \n",
    "    This prevents each recursive call from over-writing the inventory list variable \n",
    "    and avoids the need for a global list variable.\n",
    "    \n",
    "    Example\n",
    "    -------\n",
    "    >>> inventory = inventory('C:\\\\Users\\\\ghopper\\\\Downloads')\n",
    "    '''\n",
    "    inventory = [] if inventory is None else inventory\n",
    "    for thing in os.listdir(root_dir):\n",
    "        fpath = os.path.join(root_dir, thing)\n",
    "        if os.path.isdir(fpath):\n",
    "            inventory_homemade(fpath, inventory)\n",
    "        inventory.append(fpath)\n",
    "    return inventory\n",
    "\n",
    "def inventory_os_walk(root_dir):\n",
    "    '''Implementation of file inventory using os.walk() interface.'''\n",
    "    inventory = []\n",
    "    for root, dirs, files in os.walk(root_dir):\n",
    "        for d in dirs:\n",
    "            inventory.append(os.path.join(root, d))\n",
    "        for f in files:\n",
    "            fpath = os.path.join(root, f)\n",
    "            inventory.append(fpath)\n",
    "    return inventory\n",
    "\n",
    "assert set(inventory_homemade('.')) == set(inventory_os_walk('.'))"
   ]
  },
  {
   "cell_type": "code",
   "execution_count": null,
   "metadata": {},
   "outputs": [],
   "source": []
  }
 ],
 "metadata": {
  "kernelspec": {
   "display_name": "Python 3",
   "language": "python",
   "name": "python3"
  },
  "language_info": {
   "codemirror_mode": {
    "name": "ipython",
    "version": 3
   },
   "file_extension": ".py",
   "mimetype": "text/x-python",
   "name": "python",
   "nbconvert_exporter": "python",
   "pygments_lexer": "ipython3",
   "version": "3.7.7"
  }
 },
 "nbformat": 4,
 "nbformat_minor": 4
}
