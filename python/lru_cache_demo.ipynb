{
 "cells": [
  {
   "cell_type": "markdown",
   "metadata": {},
   "source": [
    "# Intro to memoization/caching\n",
    "with `functools.lru_cache` decorator (least-recently used caching)\n",
    "\n",
    "Docs\n",
    "* https://docs.python.org/3/library/functools.html\n",
    "\n",
    "Other tricks\n",
    "* tabulate - convert collections to tables for printing as strings, html, markdown, etc.\n",
    "* tqdm - timing loops"
   ]
  },
  {
   "cell_type": "markdown",
   "metadata": {},
   "source": [
    "# Generic Example\n",
    "\n",
    "### lru_cache decorator\n",
    "* LRU is short for Least Recently Used\n",
    "* cache can grow without bounds\n",
    "* to limit memory usage, use maxsize parameter; `@lru_cache(maxsize=n:int)`\n",
    "\n",
    "From docs:<br>\n",
    "*An LRU (least recently used) cache works best when the most recent calls are the best predictors of upcoming calls (for example, the most popular articles on a news server tend to change each day). The cache’s size limit assures that the cache does not grow without bound on long-running processes such as web servers. In general, the LRU cache should only be used when you want to reuse previously computed values. Accordingly, it doesn’t make sense to cache functions with side-effects, functions that need to create distinct mutable objects on each call, or impure functions such as time() or random().*"
   ]
  },
  {
   "cell_type": "markdown",
   "metadata": {},
   "source": [
    "### No caching"
   ]
  },
  {
   "cell_type": "code",
   "execution_count": 1,
   "metadata": {},
   "outputs": [
    {
     "name": "stderr",
     "output_type": "stream",
     "text": [
      "100%|██████████| 5/5 [00:05<00:00,  1.00s/it]\n"
     ]
    }
   ],
   "source": [
    "from time import sleep\n",
    "from tqdm import tqdm\n",
    "from functools import lru_cache\n",
    "\n",
    "def do_something(x):\n",
    "    sleep(1)\n",
    "    return x\n",
    "\n",
    "# call do_something(1) 5 times; note that params are the the same\n",
    "for _ in tqdm(range(5)):\n",
    "    x = 1\n",
    "    _ = do_something(x)"
   ]
  },
  {
   "cell_type": "code",
   "execution_count": 2,
   "metadata": {},
   "outputs": [
    {
     "name": "stderr",
     "output_type": "stream",
     "text": [
      "100%|██████████| 5/5 [00:05<00:00,  1.00s/it]\n"
     ]
    }
   ],
   "source": [
    "@lru_cache\n",
    "def do_something_lru_cached(x):\n",
    "    sleep(1)\n",
    "    return x\n",
    "\n",
    "#  5 calls with different arguments\n",
    "inputs = [1,2,3,4,5]\n",
    "for n in tqdm(inputs):\n",
    "    _ = do_something_lru_cached(n)"
   ]
  },
  {
   "cell_type": "code",
   "execution_count": 3,
   "metadata": {},
   "outputs": [
    {
     "name": "stderr",
     "output_type": "stream",
     "text": [
      "100%|██████████| 100/100 [00:00<00:00, 1252031.04it/s]\n"
     ]
    }
   ],
   "source": [
    "# 100 calls with same argument\n",
    "for n in tqdm(range(100)):\n",
    "    _ = do_something_lru_cached(1)"
   ]
  },
  {
   "cell_type": "markdown",
   "metadata": {},
   "source": [
    "### Naive cache from scratch\n",
    "* naive because to implement Least Recently Used, you would need a special data structure \n",
    "* where size can be bounded and the ordering of keys would shift to pop off older keys (function inputs)"
   ]
  },
  {
   "cell_type": "code",
   "execution_count": 4,
   "metadata": {},
   "outputs": [
    {
     "name": "stderr",
     "output_type": "stream",
     "text": [
      "100%|██████████| 100/100 [00:01<00:00, 99.53it/s]\n"
     ]
    }
   ],
   "source": [
    "# naive cache\n",
    "cache = {}\n",
    "def do_something_my_cache(x):\n",
    "    global cache\n",
    "    \n",
    "    # first check if we have computed this result before\n",
    "    if cache.get(x):\n",
    "        return cache[x]\n",
    "    else: \n",
    "        sleep(1)\n",
    "        \n",
    "        # store result in cache for reuse\n",
    "        cache[x] = x\n",
    "        return x\n",
    "\n",
    "# 100 calls with same argument\n",
    "    # this performs much faster than the non-cached version\n",
    "    # because we don't have to recompute the result\n",
    "for n in tqdm(range(100)):\n",
    "    _ = do_something_my_cache(1)"
   ]
  },
  {
   "cell_type": "markdown",
   "metadata": {},
   "source": [
    "# Fibonacci (cliche)\n",
    "\n",
    "Often we see demos of exponentially growing algos using Fibanocci or factorial recursive function calls."
   ]
  },
  {
   "cell_type": "code",
   "execution_count": 5,
   "metadata": {},
   "outputs": [
    {
     "name": "stderr",
     "output_type": "stream",
     "text": [
      "100%|██████████| 10/10 [00:00<00:00, 114912.44it/s]\n",
      "100%|██████████| 30/30 [00:00<00:00, 81.68it/s] \n",
      "100%|██████████| 35/35 [00:04<00:00,  8.68it/s] \n"
     ]
    },
    {
     "name": "stdout",
     "output_type": "stream",
     "text": [
      "|   index |   fibonacci number |\n",
      "|---------|--------------------|\n",
      "|       0 |                  0 |\n",
      "|       1 |                  1 |\n",
      "|       2 |                  1 |\n",
      "|       3 |                  2 |\n",
      "|       4 |                  3 |\n",
      "|       5 |                  5 |\n",
      "|       6 |                  8 |\n",
      "|       7 |                 13 |\n",
      "|       8 |                 21 |\n",
      "|       9 |                 34 |\n"
     ]
    },
    {
     "name": "stderr",
     "output_type": "stream",
     "text": [
      "100%|██████████| 100/100 [00:00<00:00, 528249.87it/s]\n"
     ]
    }
   ],
   "source": [
    "from functools import lru_cache\n",
    "from tabulate import tabulate\n",
    "from tqdm import tqdm\n",
    "\n",
    "def fib(n):\n",
    "    if n < 2:\n",
    "        return n\n",
    "    return fib(n-1) + fib(n-2)\n",
    "\n",
    "fib_numbers = []\n",
    "for i in tqdm(range(10)):\n",
    "    fib_numbers.append(fib(i))\n",
    "    \n",
    "fib_numbers = []\n",
    "for i in tqdm(range(30)):\n",
    "    fib_numbers.append(fib(i))\n",
    "    \n",
    "fib_numbers = []\n",
    "for i in tqdm(range(35)):\n",
    "    fib_numbers.append(fib(i))\n",
    "    \n",
    "table = tabulate(list(enumerate(fib_numbers))[:10], \n",
    "                 headers=['index', 'fibonacci number'], tablefmt='github')\n",
    "\n",
    "print(table)\n",
    "@lru_cache\n",
    "def fib(n):\n",
    "    if n < 2:\n",
    "        return n\n",
    "    return fib(n-1) + fib(n-2)\n",
    "\n",
    "fib_numbers = []\n",
    "for i in tqdm(range(100)):\n",
    "    fib_numbers.append(fib(i))"
   ]
  }
 ],
 "metadata": {
  "kernelspec": {
   "display_name": "Python 3.10.4 ('dev')",
   "language": "python",
   "name": "python3"
  },
  "language_info": {
   "codemirror_mode": {
    "name": "ipython",
    "version": 3
   },
   "file_extension": ".py",
   "mimetype": "text/x-python",
   "name": "python",
   "nbconvert_exporter": "python",
   "pygments_lexer": "ipython3",
   "version": "3.10.4"
  },
  "orig_nbformat": 4,
  "vscode": {
   "interpreter": {
    "hash": "fb6d21cd81c9ea66ac9045c8f140a7aa55dfeb86b6b83534867f6e56ccc8ae20"
   }
  }
 },
 "nbformat": 4,
 "nbformat_minor": 2
}
