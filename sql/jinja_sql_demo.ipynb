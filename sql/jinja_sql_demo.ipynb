{
 "cells": [
  {
   "cell_type": "markdown",
   "id": "82e1b22a-47a4-41e9-a586-922589a96ff9",
   "metadata": {},
   "source": [
    "## Adding Programmabilty to SQL with Templates using Python and `jinja2`    \n",
    "\n",
    "The following is a brief tutorial and demo of how to programmatically generate SQL.\n",
    "\n",
    "```\n",
    "\"Languages shape the way we think and determines what we can think about.\" \n",
    "~ Benjamin Wharf, American linguist\n",
    "```\n",
    "```\n",
    "Keep it D.R.Y. Don't Repeat Yourself.\n",
    "```\n",
    "\n",
    "**Why use templating over SQL built-in functionality like SQL variables, stored procedures, and loops?**\n",
    "While you can use many programming features in SQL -- variables, loops, conditionals -- it doesn't mean that you always should. In SQL, tables and rows are the main abstractions. If you want to loop through a list of elements or handle more complicated data structures, SQL might get in the way. Additionally, say, you have several tables following a convention of table_<year> (table_2020, table_2021, etc). In SQL, to parameterize the year, you likely have to construct strings dynamically. This sort of programming and string manipulation becomes much more tedious than necessary compared to a procedural programming language (Python, Python+templating language).\n",
    "\n",
    "**Why not to use templating?**\n",
    "If all you need is a handful or less of parameterization (variables) or loops, SQL stored procedures and SQL loops might be all that you want without the added glue scripting from Python. In analytics, SQL is often the primary language so depending on your collaborators' background, the jump from basic SQL to intermediate/advanced SQL might be smaller than the jump to Python or another procedural programming langugage.\n",
    "<br>Assuming a little Python familiarity, I'd argue that even for basic programmability, SQL with templates is easier to maintain and read.\n",
    "\n",
    "### Contents\n",
    "* Variables\n",
    "* Looping\n",
    "* Conditionals\n",
    "* Special loop variables\n",
    "* Note on SQL injection for web applications\n",
    "\n",
    "### Resources\n",
    "* https://jinja.palletsprojects.com/en/3.0.x/templates\n",
    "* https://realpython.com/primer-on-jinja-templating"
   ]
  },
  {
   "cell_type": "markdown",
   "id": "7b0facbc-6b5e-48ca-90df-b5025ec693c7",
   "metadata": {},
   "source": [
    "### Variables\n",
    "`{{...}}` double curly braces"
   ]
  },
  {
   "cell_type": "code",
   "execution_count": 1,
   "id": "0863d18f-23be-41ff-929c-8e3a292e9d44",
   "metadata": {},
   "outputs": [
    {
     "name": "stdout",
     "output_type": "stream",
     "text": [
      "select * from orders where customer_id = '123'\n"
     ]
    }
   ],
   "source": [
    "# standard Python string.replace()\n",
    "sql_code = \"select * from orders where customer_id = '@customer_id'\"\n",
    "sql_code = sql_code.replace('@customer_id', '123')\n",
    "print(sql_code)"
   ]
  },
  {
   "cell_type": "code",
   "execution_count": 2,
   "id": "14172a9c-db5d-438f-929c-bd6d00ddb58d",
   "metadata": {},
   "outputs": [
    {
     "name": "stdout",
     "output_type": "stream",
     "text": [
      "select * from orders where customer_id = 123\n"
     ]
    }
   ],
   "source": [
    "from jinja2 import Template\n",
    "\n",
    "sql_template = \"select * from orders where customer_id = {{customer_id}}\"\n",
    "sql_code = Template(sql_template).render(customer_id=123)\n",
    "print(sql_code)"
   ]
  },
  {
   "cell_type": "code",
   "execution_count": 3,
   "id": "55ea87c4-278c-4779-9d55-f2be9dcecf8a",
   "metadata": {},
   "outputs": [
    {
     "name": "stdout",
     "output_type": "stream",
     "text": [
      "\n",
      "select * \n",
      "from data\n",
      "where client_id = 123\n",
      "and year_month = '2022-01-01'\n"
     ]
    }
   ],
   "source": [
    "from jinja2 import Template\n",
    "\n",
    "sql_template = \"\"\"\n",
    "select * \n",
    "from data\n",
    "where client_id = {{client_id}}\n",
    "and year_month = '{{year_month}}'\n",
    "\"\"\"\n",
    "\n",
    "params = {'client_id': 123,\n",
    "          'year_month': '2022-01-01'}\n",
    "\n",
    "# if we have many variables, we can use dictionary unpacking:\n",
    "# sames as: \n",
    "    # sql_code = Template(sql_template).render(client_id=params['client_id'], year_month=params['year_month'], ...)\n",
    "sql_code = Template(sql_template).render(**params)\n",
    "print(sql_code)"
   ]
  },
  {
   "cell_type": "markdown",
   "id": "68e8a602-bee7-4c12-b266-75fef4820e9e",
   "metadata": {},
   "source": [
    "### Looping\n",
    "* `{...}` single curly braces with % symbol, for/endfor keywords\n",
    "* Ex: `{% for thing in things %} here is {{ thing }} {% endfor %}`\n",
    "* Use hyphens inside of % symbol to control whitespace. Experiment with adding or removing the hyphen."
   ]
  },
  {
   "cell_type": "code",
   "execution_count": 4,
   "id": "cd4d85ed-3909-4e98-ab5d-8aa5c705d226",
   "metadata": {},
   "outputs": [
    {
     "name": "stdout",
     "output_type": "stream",
     "text": [
      "\n",
      "select\n",
      "\n",
      "year_2010\n",
      "year_2011\n",
      "year_2012\n",
      "year_2013\n",
      "year_2014\n",
      "year_2015\n",
      "\n",
      "from a_table;\n"
     ]
    }
   ],
   "source": [
    "from jinja2 import Template\n",
    "\n",
    "sql_template = \"\"\"\n",
    "select\n",
    "{% for year in years %}\n",
    "year_{{ year }}\n",
    "{%- endfor %}\n",
    "\n",
    "from a_table;\n",
    "\"\"\"\n",
    "years = [2010, 2011, 2012, 2013, 2014, 2015]\n",
    "\n",
    "sql_code = Template(sql_template).render(years=years)\n",
    "print(sql_code)"
   ]
  },
  {
   "cell_type": "code",
   "execution_count": 5,
   "id": "266044a6-5288-4523-9e3b-b16fdbc621c1",
   "metadata": {},
   "outputs": [
    {
     "name": "stdout",
     "output_type": "stream",
     "text": [
      "\n",
      "select * from data_2010 union all\n",
      "select * from data_2011 union all\n",
      "select * from data_2012 union all\n",
      "select * from data_2013 union all\n",
      "select * from data_2014 union all\n",
      "select * from data_2015 union all\n",
      "select * from data_2016 union all\n",
      "select * from data_2017 union all\n",
      "select * from data_2018 union all\n",
      "select * from data_2019 union all\n",
      "select * from data_2020 union all\n",
      "select * from data_2021 union all\n",
      "select * from data_2022 union all\n",
      "select * from data_2023 union all\n",
      "select * from data_2024 union all\n",
      "select * from data_2025 union all\n"
     ]
    }
   ],
   "source": [
    "# Compare to how you might implement dynamic table names in SQL\n",
    "    # we will address how to account for removing the last \"UNION ALL\" in the next session\n",
    "\n",
    "from jinja2 import Template\n",
    "\n",
    "sql_template = \"\"\"\n",
    "{%- for year in years %}\n",
    "select * from data_{{year}} union all\n",
    "{%- endfor %}\n",
    "\"\"\"\n",
    "years = range(2010, 2026)\n",
    "sql_code = Template(sql_template).render(years=years)\n",
    "print(sql_code)"
   ]
  },
  {
   "cell_type": "markdown",
   "id": "05b2545d-5d55-4e02-bab7-bba6a6b34986",
   "metadata": {},
   "source": [
    "### Conditionals\n",
    "* `{...}` single curly braces with % symbol, if-else-endif keywords. \n",
    "* Ex: `{% if thing==0 %} 'zero' {% else %} 'non-zero' {% endif %}`"
   ]
  },
  {
   "cell_type": "code",
   "execution_count": 6,
   "id": "dbba41ec-aa54-419c-a7d8-c86b21553007",
   "metadata": {},
   "outputs": [
    {
     "name": "stdout",
     "output_type": "stream",
     "text": [
      "\n",
      "select * \n",
      "from claims_data\n",
      "where client_id = 1\n",
      "and IS_ONE = 'Y'\n",
      "\n",
      "select * \n",
      "from claims_data\n",
      "where client_id = 2\n",
      "and IS_TWO = 'Y'\n",
      "\n",
      "\n",
      "select * \n",
      "from claims_data\n",
      "where client_id = 3\n"
     ]
    }
   ],
   "source": [
    "from jinja2 import Template\n",
    "\n",
    "sql_template = \"\"\"\n",
    "select * \n",
    "from claims_data\n",
    "where client_id = {{client_id}}\n",
    "\n",
    "{%- if client_id==1 %}\n",
    "and IS_ONE = 'Y'\n",
    "{%- elif client_id==2 %}\n",
    "and IS_TWO = 'Y'\n",
    "{% endif %}\n",
    "\"\"\"\n",
    "\n",
    "print(Template(sql_template).render(client_id=1))\n",
    "print(Template(sql_template).render(client_id=2))\n",
    "print(Template(sql_template).render(client_id=3))"
   ]
  },
  {
   "cell_type": "markdown",
   "id": "b6c10389-7875-4591-879a-e27f5c4fb077",
   "metadata": {},
   "source": [
    "### Special loop condition variables\n",
    "\n",
    "* `loop.last` and `loop.first` special variables\n",
    "* Ex: `{% for thing in things %} {% if loop.last %} 'no comma' {% else %} 'comma' {% endif %} {% endfor %}`"
   ]
  },
  {
   "cell_type": "code",
   "execution_count": 7,
   "id": "b92d4139-f57c-4338-89d1-b571efdaed0d",
   "metadata": {},
   "outputs": [
    {
     "name": "stdout",
     "output_type": "stream",
     "text": [
      "\n",
      "select\n",
      "\n",
      "year_2010,\n",
      "year_2011,\n",
      "year_2012,\n",
      "year_2013,\n",
      "year_2014,\n",
      "year_2015\n",
      "\n",
      "from a_table;\n"
     ]
    }
   ],
   "source": [
    "from jinja2 import Template\n",
    "\n",
    "# for each year, output \"year_<year>\"\n",
    "# if it's the last year, then do not append trailing comma\n",
    "sql_template = \"\"\"\n",
    "select\n",
    "{% for year in years %}\n",
    "year_{{ year }}\n",
    "{%- if loop.last %}\n",
    "{%- else -%}\n",
    ",\n",
    "{%- endif %}\n",
    "{%- endfor %}\n",
    "\n",
    "from a_table;\n",
    "\"\"\"\n",
    "years = [2010, 2011, 2012, 2013, 2014, 2015]\n",
    "\n",
    "sql_code = Template(sql_template).render(years=years)\n",
    "print(sql_code)"
   ]
  },
  {
   "cell_type": "markdown",
   "id": "d6a4bfb3-df2c-4970-ba13-4e0f6e7a17fe",
   "metadata": {},
   "source": [
    "### Putting it all together"
   ]
  },
  {
   "cell_type": "markdown",
   "id": "058aa345-9e7c-42b8-b7d3-6037e3c87244",
   "metadata": {},
   "source": [
    "Say we want to construct the following query dynamically.\n",
    "* We want to parameterize the year in the integer value and the concatenated `year_<yr>` string using a variable (`{{double_curlies}}`)\n",
    "* We need to loop through each year to produce the \"WHEN ... THEN\" lines (`{% for thing in things %}...{% endfor %}`)\n",
    "* We need to loop through each year to produce the VALUES () lines after the cross-join\n",
    "* Problem: the VALUES() lines need a trailing comma for all years except the last\n",
    "    * So we need some kind of conditional logic to use an empty character if we're on the last iteration\n",
    "    * (`{% if loop.last %}...{% endif %}`)\n",
    "\n",
    "```sql\n",
    "SELECT years.*,\n",
    "       earthquakes.magnitude,\n",
    "       CASE year\n",
    "         WHEN 2000 THEN year_2000\n",
    "         WHEN 2001 THEN year_2001\n",
    "         WHEN 2002 THEN year_2002\n",
    "         WHEN 2003 THEN year_2003\n",
    "         WHEN 2004 THEN year_2004\n",
    "         WHEN 2005 THEN year_2005\n",
    "         WHEN 2006 THEN year_2006\n",
    "         WHEN 2007 THEN year_2007\n",
    "         WHEN 2008 THEN year_2008\n",
    "         WHEN 2009 THEN year_2009\n",
    "         WHEN 2010 THEN year_2010\n",
    "         WHEN 2011 THEN year_2011\n",
    "         WHEN 2012 THEN year_2012\n",
    "         ELSE NULL END\n",
    "         AS number_of_earthquakes\n",
    "  FROM tutorial.worldwide_earthquakes earthquakes\n",
    " CROSS JOIN (\n",
    "       SELECT year\n",
    "         FROM (VALUES (2000),(2001),(2002),(2003),(2004),(2005),(2006),\n",
    "                      (2007),(2008),(2009),(2010),(2011),(2012)) v(year)\n",
    "       ) years\n",
    "```"
   ]
  },
  {
   "cell_type": "markdown",
   "id": "588c874b-9080-42f0-b043-8dd2cce0532b",
   "metadata": {},
   "source": [
    "### Using Loops and Conditional"
   ]
  },
  {
   "cell_type": "code",
   "execution_count": 8,
   "id": "49a85b64-d1ab-4b28-855e-e04390bc9f28",
   "metadata": {},
   "outputs": [
    {
     "name": "stdout",
     "output_type": "stream",
     "text": [
      "\n",
      "SELECT years.*,\n",
      "       earthquakes.magnitude,\n",
      "       CASE year\n",
      "         WHEN 2000 THEN year_2000\n",
      "         WHEN 2001 THEN year_2001\n",
      "         WHEN 2002 THEN year_2002\n",
      "         WHEN 2003 THEN year_2003\n",
      "         WHEN 2004 THEN year_2004\n",
      "         WHEN 2005 THEN year_2005\n",
      "         WHEN 2006 THEN year_2006\n",
      "         WHEN 2007 THEN year_2007\n",
      "         WHEN 2008 THEN year_2008\n",
      "         WHEN 2009 THEN year_2009\n",
      "         WHEN 2010 THEN year_2010\n",
      "         WHEN 2011 THEN year_2011\n",
      "         WHEN 2012 THEN year_2012\n",
      "         WHEN 2013 THEN year_2013\n",
      "         WHEN 2014 THEN year_2014\n",
      "         WHEN 2015 THEN year_2015\n",
      "         WHEN 2016 THEN year_2016\n",
      "         WHEN 2017 THEN year_2017\n",
      "         WHEN 2018 THEN year_2018\n",
      "         WHEN 2019 THEN year_2019\n",
      "         ELSE NULL END\n",
      "         AS number_of_earthquakes\n",
      "  FROM tutorial.worldwide_earthquakes earthquakes\n",
      " CROSS JOIN (\n",
      "       SELECT year\n",
      "         FROM (VALUES (2000),(2001),(2002),(2003),(2004),(2005),(2006),(2007),(2008),(2009),(2010),(2011),(2012),(2013),(2014),(2015),(2016),(2017),(2018),(2019)) v(year)\n",
      "       ) years\n"
     ]
    }
   ],
   "source": [
    "from jinja2 import Template\n",
    "\n",
    "sql_template = \"\"\"\n",
    "SELECT years.*,\n",
    "       earthquakes.magnitude,\n",
    "       CASE year\n",
    "       {%- for year  in years %}\n",
    "         WHEN {{year}} THEN year_{{year}}\n",
    "       {%- endfor %}\n",
    "         ELSE NULL END\n",
    "         AS number_of_earthquakes\n",
    "  FROM tutorial.worldwide_earthquakes earthquakes\n",
    " CROSS JOIN (\n",
    "       SELECT year\n",
    "         FROM (VALUES {% for year in years -%}\n",
    "                      ({{year}})\n",
    "                      {%- if loop.last %}\n",
    "                      {%- else %},{% endif %}\n",
    "                      {%- endfor %}) v(year)\n",
    "       ) years\n",
    "\"\"\"\n",
    "\n",
    "years = range(2000, 2020)\n",
    "sql_code = Template(sql_template).render(years=years)\n",
    "print(sql_code)"
   ]
  },
  {
   "cell_type": "markdown",
   "id": "d81051e0-01f8-4d0a-9c07-36f487ee7053",
   "metadata": {},
   "source": [
    "### SQL Injection\n",
    "\n",
    "Resources\n",
    "* Django Security and Preventing SQL Injection: https://django-book.readthedocs.io/en/latest/chapter20.html\n",
    "* Consider using `jinjasql` library for SQL-injection-safe queries if you're constructing queries in the context of a web application: https://github.com/sripathikrishnan/jinjasql/tree/master/jinjasql\n",
    "* xkcd - Bobby Tables: https://xkcd.com/327\n",
    "* In short, never trust user input"
   ]
  },
  {
   "cell_type": "code",
   "execution_count": 9,
   "id": "a56b0493-2a14-4f08-93f8-cef9781f5cdf",
   "metadata": {},
   "outputs": [
    {
     "name": "stdout",
     "output_type": "stream",
     "text": [
      "\n",
      "select *\n",
      "from data_table\n",
      "where user_id = 1\n",
      "\n",
      "select *\n",
      "from data_table\n",
      "where user_id = 1; DELETE FROM user_contacts WHERE 'a' = 'a'\n"
     ]
    }
   ],
   "source": [
    "from jinja2 import Template\n",
    "\n",
    "sql_template = \"\"\"\n",
    "select *\n",
    "from data_table\n",
    "where user_id = {{user_id}}\n",
    "\"\"\"\n",
    "\n",
    "# expected result\n",
    "input_from_user = 1\n",
    "print(Template(sql_template).render(user_id=input_from_user))\n",
    "\n",
    "# never trust user input when accepting data from a user on the internet (e.g., form data)\n",
    "input_from_user = \"1; DELETE FROM user_contacts WHERE 'a' = 'a'\"\n",
    "print(Template(sql_template).render(user_id=input_from_user))"
   ]
  },
  {
   "cell_type": "code",
   "execution_count": null,
   "id": "9ed626f9-3ff1-4af4-ab53-62cea363727a",
   "metadata": {},
   "outputs": [],
   "source": []
  }
 ],
 "metadata": {
  "kernelspec": {
   "display_name": "Python 3",
   "language": "python",
   "name": "python3"
  },
  "language_info": {
   "codemirror_mode": {
    "name": "ipython",
    "version": 3
   },
   "file_extension": ".py",
   "mimetype": "text/x-python",
   "name": "python",
   "nbconvert_exporter": "python",
   "pygments_lexer": "ipython3",
   "version": "3.9.4"
  }
 },
 "nbformat": 4,
 "nbformat_minor": 5
}
